{
 "cells": [
  {
   "cell_type": "code",
   "execution_count": null,
   "id": "333f2792",
   "metadata": {},
   "outputs": [],
   "source": [
    "LOAD CSV WITH HEADERS FROM ('https://raw.githubusercontent.com/uniaovasko/uniaovasko_vasko/main/project-2-final/data/processed/receitas.csv') AS line\n",
    "CREATE (:Receita {id: line.id, titulo: line.titulo, regiao: line.regiao})"
   ]
  },
  {
   "cell_type": "code",
   "execution_count": null,
   "id": "5d50f1fd",
   "metadata": {},
   "outputs": [],
   "source": [
    "CREATE INDEX FOR (r:Receita) ON (r.id)"
   ]
  },
  {
   "cell_type": "markdown",
   "id": "0f5b6b4e",
   "metadata": {},
   "source": [
    "Para que pudessemos executar nossas querries em um ambiente neo4j online, decidimos filtrar apenas as receitas da região \"USA\", mas idealmente, usaríamos todas as 45k receitas em nossos dados"
   ]
  },
  {
   "cell_type": "code",
   "execution_count": null,
   "id": "e33cf911",
   "metadata": {},
   "outputs": [],
   "source": [
    "LOAD CSV WITH HEADERS FROM ('https://raw.githubusercontent.com/uniaovasko/uniaovasko_vasko/main/project-2-final/data/processed/ingredientes.csv') AS line\n",
    "CREATE (:Ingrediente {id: line.id, nome:line.nome, grupo:line.grupo})"
   ]
  },
  {
   "cell_type": "code",
   "execution_count": null,
   "id": "56a8d7cb",
   "metadata": {},
   "outputs": [],
   "source": [
    "CREATE INDEX FOR (i:Ingrediente) ON (i.id)"
   ]
  },
  {
   "cell_type": "code",
   "execution_count": null,
   "id": "0b282613",
   "metadata": {},
   "outputs": [],
   "source": [
    "LOAD CSV WITH HEADERS FROM ('https://raw.githubusercontent.com/uniaovasko/uniaovasko_vasko/main/project-2-final/data/processed/ingredientes_receitas.csv') AS line\n",
    "MATCH (r:Receita {id: line.id_receita})\n",
    "MATCH (i:Ingrediente {id: line.id_ingrediente})\n",
    "CREATE (r)-[e:Emprega]->(i)"
   ]
  },
  {
   "cell_type": "code",
   "execution_count": null,
   "id": "7dea1ee0",
   "metadata": {},
   "outputs": [],
   "source": [
    "MATCH (i1:Ingrediente)<-[:Emprega]-(r:Receita)-[:Emprega]->(i2:Ingrediente)\n",
    "MERGE (i1)<-[re:Relaciona]->(i2)\n",
    "ON CREATE SET re.weight = 1\n",
    "ON MATCH SET re.weight = re.weight + 1"
   ]
  },
  {
   "cell_type": "markdown",
   "id": "4bf1a804",
   "metadata": {},
   "source": [
    "Aqui termina nossa projeção. Podemos inclusive apagar as arestas :Emprega e os nós :Receita se quisermos economizar espaço"
   ]
  },
  {
   "cell_type": "markdown",
   "id": "dffd8558",
   "metadata": {},
   "source": [
    "Querry para encontrarmos os ingredientes considerados hubs"
   ]
  },
  {
   "cell_type": "code",
   "execution_count": null,
   "id": "7dbadecd",
   "metadata": {},
   "outputs": [],
   "source": [
    "MATCH (i:Ingrediente)\n",
    "WHERE i.grupo <> 'Baking goods'\n",
    "WITH i, [(i)-[:Relaciona]-() | 1] AS relationships\n",
    "WITH i, REDUCE(s = 0, rel IN relationships | s + rel) AS degree\n",
    "ORDER BY degree DESC\n",
    "LIMIT 20\n",
    "RETURN i, degree;"
   ]
  },
  {
   "cell_type": "markdown",
   "id": "4d58d2ea",
   "metadata": {},
   "source": [
    "Querry para analisar as maiores distancias entre dois ingredientes\n",
    "Infelizmente, o processamento durou mais de 10 minutos e falhou por tempo limite"
   ]
  },
  {
   "cell_type": "code",
   "execution_count": null,
   "id": "c5bf191d",
   "metadata": {},
   "outputs": [],
   "source": [
    "MATCH (i1:Ingrediente), (i2:Ingrediente)\n",
    "WHERE id(i1) < id(i2)\n",
    "WITH i1, i2\n",
    "CALL apoc.algo.dijkstra(i1, i2, 'Relaciona', 'distance') YIELD path, weight\n",
    "RETURN i1, i2, weight\n",
    "ORDER BY weight DESC\n",
    "LIMIT 1;"
   ]
  }
 ],
 "metadata": {
  "kernelspec": {
   "display_name": "Python 3 (ipykernel)",
   "language": "python",
   "name": "python3"
  },
  "language_info": {
   "codemirror_mode": {
    "name": "ipython",
    "version": 3
   },
   "file_extension": ".py",
   "mimetype": "text/x-python",
   "name": "python",
   "nbconvert_exporter": "python",
   "pygments_lexer": "ipython3",
   "version": "3.11.5"
  },
  "toc": {
   "base_numbering": 1,
   "nav_menu": {},
   "number_sections": false,
   "sideBar": false,
   "skip_h1_title": false,
   "title_cell": "Table of Contents",
   "title_sidebar": "Contents",
   "toc_cell": false,
   "toc_position": {},
   "toc_section_display": false,
   "toc_window_display": false
  }
 },
 "nbformat": 4,
 "nbformat_minor": 5
}
