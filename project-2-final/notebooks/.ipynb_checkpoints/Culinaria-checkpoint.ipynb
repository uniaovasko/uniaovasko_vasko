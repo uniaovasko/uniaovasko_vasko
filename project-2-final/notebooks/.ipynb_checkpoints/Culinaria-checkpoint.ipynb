{
 "cells": [
  {
   "cell_type": "markdown",
   "id": "0e6aaeb3",
   "metadata": {},
   "source": [
    "# Culinária ao Redor do Mundo: Análise de Receitas"
   ]
  },
  {
   "cell_type": "markdown",
   "id": "36cdf421",
   "metadata": {},
   "source": [
    "Ativando uma conexão de banco de dados em memória usando o SGBD H2:"
   ]
  },
  {
   "cell_type": "code",
   "execution_count": 1,
   "id": "2b0705d1",
   "metadata": {},
   "outputs": [],
   "source": [
    "%defaultDatasource jdbc:h2:mem:db"
   ]
  },
  {
   "cell_type": "markdown",
   "id": "527dae2c",
   "metadata": {},
   "source": [
    "Criação de Tabela"
   ]
  },
  {
   "cell_type": "code",
   "execution_count": 2,
   "id": "97c6f626",
   "metadata": {},
   "outputs": [],
   "source": [
    "DROP TABLE IF EXISTS Receitas;\n",
    "\n",
    "CREATE TABLE Receitas (\n",
    "  id INTEGER NOT NULL,\n",
    "  titulo VARCHAR(200),\n",
    "  regiao VARCHAR(100),\n",
    "  PRIMARY KEY(id)\n",
    ") AS SELECT\n",
    "  id, titulo, regiao\n",
    "FROM CSVREAD('../Jupyter/receitas.csv');\n"
   ]
  },
  {
   "cell_type": "code",
   "execution_count": 3,
   "id": "a23268b6",
   "metadata": {},
   "outputs": [],
   "source": [
    "DROP TABLE IF EXISTS Nutrientes;\n",
    "\n",
    "CREATE TABLE Nutrientes (\n",
    "    id INTEGER NOT NULL,\n",
    "    nome VARCHAR(50),\n",
    "    PRIMARY KEY(id)\n",
    ") AS SELECT\n",
    "    id, nome\n",
    "FROM CSVREAD('../Jupyter/nutrientes.csv');"
   ]
  },
  {
   "cell_type": "code",
   "execution_count": 4,
   "id": "22e0ad1f",
   "metadata": {},
   "outputs": [],
   "source": [
    "DROP TABLE IF EXISTS Compostos;\n",
    "\n",
    "CREATE TABLE Compostos (\n",
    "    id INTEGER NOT NULL,\n",
    "    nome VARCHAR(300),\n",
    "    PRIMARY KEY(id)\n",
    ") AS SELECT\n",
    "    id, nome\n",
    "FROM CSVREAD('../Jupyter/compostos.csv');"
   ]
  },
  {
   "cell_type": "code",
   "execution_count": 5,
   "id": "4680ca8b",
   "metadata": {},
   "outputs": [
    {
     "data": {
      "application/vnd.jupyter.widget-view+json": {
       "model_id": "762d0ed5-3258-428e-aef0-d01745bcdef3",
       "version_major": 2,
       "version_minor": 0
      },
      "method": "display_data"
     },
     "metadata": {},
     "output_type": "display_data"
    }
   ],
   "source": [
    "SELECT * FROM Receitas LIMIT 50;"
   ]
  },
  {
   "cell_type": "code",
   "execution_count": 6,
   "id": "f45d2394",
   "metadata": {},
   "outputs": [
    {
     "data": {
      "application/vnd.jupyter.widget-view+json": {
       "model_id": "44d36988-e4bc-4a16-b8fc-d69f7439f8f6",
       "version_major": 2,
       "version_minor": 0
      },
      "method": "display_data"
     },
     "metadata": {},
     "output_type": "display_data"
    }
   ],
   "source": [
    "SELECT * FROM Nutrientes LIMIT 50;"
   ]
  },
  {
   "cell_type": "code",
   "execution_count": 7,
   "id": "6d7bc68f",
   "metadata": {},
   "outputs": [
    {
     "data": {
      "application/vnd.jupyter.widget-view+json": {
       "model_id": "e30988bb-25c9-48c5-bda1-c58242b74666",
       "version_major": 2,
       "version_minor": 0
      },
      "method": "display_data"
     },
     "metadata": {},
     "output_type": "display_data"
    }
   ],
   "source": [
    "SELECT * FROM Compostos LIMIT 50;"
   ]
  }
 ],
 "metadata": {
  "kernelspec": {
   "display_name": "SQL",
   "language": "SQL",
   "name": "sql"
  },
  "language_info": {
   "codemirror_mode": "sql",
   "file_extension": ".sql",
   "mimetype": "",
   "name": "SQL",
   "nbconverter_exporter": "",
   "version": ""
  },
  "toc": {
   "base_numbering": 1,
   "nav_menu": {},
   "number_sections": false,
   "sideBar": false,
   "skip_h1_title": false,
   "title_cell": "Table of Contents",
   "title_sidebar": "Contents",
   "toc_cell": false,
   "toc_position": {},
   "toc_section_display": false,
   "toc_window_display": false
  }
 },
 "nbformat": 4,
 "nbformat_minor": 5
}
