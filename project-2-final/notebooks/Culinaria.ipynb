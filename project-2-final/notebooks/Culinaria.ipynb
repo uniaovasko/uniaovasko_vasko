{
 "cells": [
  {
   "cell_type": "markdown",
   "id": "0e6aaeb3",
   "metadata": {},
   "source": [
    "# Culinária ao Redor do Mundo: Análise de Receitas"
   ]
  },
  {
   "cell_type": "markdown",
   "id": "36cdf421",
   "metadata": {},
   "source": [
    "Ativando uma conexão de banco de dados em memória usando o SGBD H2:"
   ]
  },
  {
   "cell_type": "code",
   "execution_count": 1,
   "id": "2b0705d1",
   "metadata": {
    "vscode": {
     "languageId": "sql"
    }
   },
   "outputs": [],
   "source": [
    "%defaultDatasource jdbc:h2:mem:db"
   ]
  },
  {
   "cell_type": "markdown",
   "id": "527dae2c",
   "metadata": {},
   "source": [
    "Criação de Tabela"
   ]
  },
  {
   "cell_type": "code",
   "execution_count": 2,
   "id": "97c6f626",
   "metadata": {
    "vscode": {
     "languageId": "sql"
    }
   },
   "outputs": [],
   "source": [
    "DROP TABLE IF EXISTS Receitas;\n",
    "\n",
    "CREATE TABLE Receitas (\n",
    "  id INTEGER NOT NULL,\n",
    "  titulo VARCHAR(200),\n",
    "  regiao VARCHAR(100),\n",
    "  PRIMARY KEY(id)\n",
    ") AS SELECT\n",
    "  id, titulo, regiao\n",
    "FROM CSVREAD('../data/processed/receitas.csv');\n"
   ]
  },
  {
   "cell_type": "code",
   "execution_count": 3,
   "id": "a23268b6",
   "metadata": {
    "vscode": {
     "languageId": "sql"
    }
   },
   "outputs": [],
   "source": [
    "DROP TABLE IF EXISTS Nutrientes;\n",
    "\n",
    "CREATE TABLE Nutrientes (\n",
    "    id INTEGER NOT NULL,\n",
    "    nome VARCHAR(50),\n",
    "    PRIMARY KEY(id)\n",
    ") AS SELECT\n",
    "    id, nome\n",
    "FROM CSVREAD('../data/processed/nutrientes.csv');"
   ]
  },
  {
   "cell_type": "code",
   "execution_count": 4,
   "id": "22e0ad1f",
   "metadata": {
    "vscode": {
     "languageId": "sql"
    }
   },
   "outputs": [],
   "source": [
    "DROP TABLE IF EXISTS Compostos;\n",
    "\n",
    "CREATE TABLE Compostos (\n",
    "    id INTEGER NOT NULL,\n",
    "    nome VARCHAR(300),\n",
    "    PRIMARY KEY(id)\n",
    ") AS SELECT\n",
    "    id, nome\n",
    "FROM CSVREAD('../data/processed/compostos.csv');"
   ]
  },
  {
   "cell_type": "code",
   "execution_count": 5,
   "id": "a3a8016a",
   "metadata": {
    "vscode": {
     "languageId": "sql"
    }
   },
   "outputs": [],
   "source": [
    "DROP TABLE IF EXISTS Ingredientes;\n",
    "\n",
    "CREATE TABLE Ingredientes (\n",
    "    id_cdb INTEGER NOT NULL,\n",
    "    nome_cdb VARCHAR(300),\n",
    "    id_fdb INTEGER NOT NULL,\n",
    "    nome_fdb VARCHAR(300),\n",
    "    grupo VARCHAR(300),\n",
    "    subgrupo VARCHAR(300),\n",
    "    aliases VARCHAR(300),\n",
    "    PRIMARY KEY(id_cdb, id_fdb)\n",
    ") AS SELECT\n",
    "    id_cdb, nome_cdb, id_fdb, nome_fdb, grupo, subgrupo, aliases\n",
    "FROM CSVREAD('../data/interim/ingredientes_final.csv');"
   ]
  },
  {
   "cell_type": "code",
   "execution_count": 6,
   "id": "50110a72",
   "metadata": {
    "vscode": {
     "languageId": "sql"
    }
   },
   "outputs": [],
   "source": [
    "DROP TABLE IF EXISTS ingredientes_receitas;\n",
    "\n",
    "CREATE TABLE Ingredientes_receitas (\n",
    "    id_ingrediente INTEGER NOT NULL,\n",
    "    id_receita INTEGER NOT NULL,\n",
    "    volume FLOAT NOT NULL,\n",
    "    massa FLOAT NOT NULL,\n",
    "    unidade INTEGER NOT NULL,\n",
    "    PRIMARY KEY (id_ingrediente, id_receita)\n",
    ") AS SELECT\n",
    "    id_ingrediente, id_receita, volume, massa, unidade\n",
    "FROM CSVREAD('../data/processed/ingredientes_receitas.csv');"
   ]
  },
  {
   "cell_type": "markdown",
   "id": "6ebae1de",
   "metadata": {
    "vscode": {
     "languageId": "sql"
    }
   },
   "source": [
    "1)Quais as estruturas bioquímicas mais frequentes em cada região?"
   ]
  },
  {
   "cell_type": "code",
   "execution_count": 7,
   "id": "c9de062d",
   "metadata": {
    "vscode": {
     "languageId": "sql"
    }
   },
   "outputs": [
    {
     "data": {
      "application/vnd.jupyter.widget-view+json": {
       "model_id": "0c6b3bf6-679d-4aa3-b593-5ef36fb824f6",
       "version_major": 2,
       "version_minor": 0
      },
      "method": "display_data"
     },
     "metadata": {},
     "output_type": "display_data"
    }
   ],
   "source": [
    "SELECT regiao, nome_composto, MAX(frequencia) AS frequencia_maxima\n",
    "FROM (\n",
    "    SELECT r.regiao, c.nome AS nome_composto, COUNT(*) AS frequencia\n",
    "    FROM Receitas r\n",
    "    JOIN Ingredientes_receitas ir ON r.id = ir.id_receita\n",
    "    JOIN Ingredientes i ON ir.id_ingrediente = i.id_cdb\n",
    "    JOIN Compostos c ON i.id_fdb = c.id\n",
    "    GROUP BY r.regiao, c.nome\n",
    ") AS CompostosPorRegiao\n",
    "GROUP BY regiao, nome_composto;\n"
   ]
  },
  {
   "cell_type": "markdown",
   "id": "100248d8",
   "metadata": {
    "vscode": {
     "languageId": "sql"
    }
   },
   "source": [
    "2)Quais regiões possuem receitas com ingredientes majoritariamente vegetais?"
   ]
  },
  {
   "cell_type": "code",
   "execution_count": 8,
   "id": "4a7aa9c7",
   "metadata": {
    "vscode": {
     "languageId": "sql"
    }
   },
   "outputs": [
    {
     "data": {
      "application/vnd.jupyter.widget-view+json": {
       "model_id": "bc3d01f5-e077-4782-afe9-e6937607a9de",
       "version_major": 2,
       "version_minor": 0
      },
      "method": "display_data"
     },
     "metadata": {},
     "output_type": "display_data"
    }
   ],
   "source": [
    "CREATE TABLE IF NOT EXISTS PorcentagemVegetaisPorReceita AS\n",
    "SELECT r.id AS id_receita, r.regiao,\n",
    "    COUNT(CASE WHEN i.grupo NOT IN ('Milk and milk products', 'Snack foods', 'Aquatic foods', 'Animal foods') THEN 1 END) * 100.0 / COUNT(*) AS percentual_vegetais\n",
    "FROM Receitas r\n",
    "JOIN Ingredientes_receitas ir ON r.id = ir.id_receita\n",
    "JOIN Ingredientes i ON ir.id_ingrediente = i.id_cdb\n",
    "GROUP BY r.id, r.regiao;\n",
    "\n",
    "SELECT regiao, AVG(media_por_receita) AS media_mediavegetais_por_regiao\n",
    "FROM (\n",
    "    SELECT regiao, AVG(percentual_vegetais) AS media_por_receita\n",
    "    FROM PorcentagemVegetaisPorReceita\n",
    "    GROUP BY id_receita, regiao\n",
    ") AS MediasPorReceitaPorRegiao\n",
    "GROUP BY regiao;\n"
   ]
  },
  {
   "cell_type": "markdown",
   "id": "9ab7fbd3",
   "metadata": {
    "vscode": {
     "languageId": "sql"
    }
   },
   "source": [
    "3)Quais regiões possuem a maior média de gorduras por receita?"
   ]
  },
  {
   "cell_type": "code",
   "execution_count": 9,
   "id": "2a41cd59",
   "metadata": {
    "vscode": {
     "languageId": "sql"
    }
   },
   "outputs": [
    {
     "ename": "org.h2.jdbc.JdbcSQLException",
     "evalue": " Syntax error in SQL statement \"[*]/*NÃO DÁ/*\"; SQL statement",
     "output_type": "error",
     "traceback": [
      "\u001b[1;31morg.h2.jdbc.JdbcSQLException: Syntax error in SQL statement \"[*]/*NÃO DÁ/*\"; SQL statement:\u001b[0;0m",
      "\u001b[1;31m/*NÃO DÁ/* [42000-197]\u001b[0;0m"
     ]
    }
   ],
   "source": [
    "/*NÃO DÁ/*"
   ]
  },
  {
   "cell_type": "markdown",
   "id": "58141fa7",
   "metadata": {},
   "source": [
    "4) Qual a porcentagem de receitais que usam frutas tropicais por região?"
   ]
  },
  {
   "cell_type": "code",
   "execution_count": 10,
   "id": "4a60b6e6",
   "metadata": {},
   "outputs": [
    {
     "data": {
      "application/vnd.jupyter.widget-view+json": {
       "model_id": "875e41e6-8bcb-409b-a747-8031a1ba7244",
       "version_major": 2,
       "version_minor": 0
      },
      "method": "display_data"
     },
     "metadata": {},
     "output_type": "display_data"
    }
   ],
   "source": [
    "SELECT regiao, AVG(freq_tropical_fruits) * 100 AS probabilidade_receita_fruta_tropical\n",
    "FROM (\n",
    "    SELECT r.regiao, COUNT(CASE WHEN i.subgrupo = 'Tropical fruits' THEN 1 END) * 1.0 / COUNT(DISTINCT r.id) AS freq_tropical_fruits\n",
    "    FROM Receitas r\n",
    "    JOIN Ingredientes_receitas ir ON r.id = ir.id_receita\n",
    "    JOIN Ingredientes i ON ir.id_ingrediente = i.id_cdb\n",
    "    GROUP BY r.regiao, r.id\n",
    ") AS FrequenciaTropicalPorRegiao\n",
    "GROUP BY regiao;\n"
   ]
  }
 ],
 "metadata": {
  "kernelspec": {
   "display_name": "SQL",
   "language": "SQL",
   "name": "sql"
  },
  "language_info": {
   "codemirror_mode": "sql",
   "file_extension": ".sql",
   "mimetype": "",
   "name": "SQL",
   "nbconverter_exporter": "",
   "version": ""
  },
  "toc": {
   "base_numbering": 1,
   "nav_menu": {},
   "number_sections": false,
   "sideBar": false,
   "skip_h1_title": false,
   "title_cell": "Table of Contents",
   "title_sidebar": "Contents",
   "toc_cell": false,
   "toc_position": {},
   "toc_section_display": false,
   "toc_window_display": false
  }
 },
 "nbformat": 4,
 "nbformat_minor": 5
}
