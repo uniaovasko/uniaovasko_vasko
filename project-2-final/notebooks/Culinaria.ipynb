{
 "cells": [
  {
   "cell_type": "markdown",
   "id": "0e6aaeb3",
   "metadata": {
    "id": "0e6aaeb3"
   },
   "source": [
    "# Culinária ao Redor do Mundo: Análise de Receitas"
   ]
  },
  {
   "cell_type": "markdown",
   "id": "36cdf421",
   "metadata": {
    "id": "36cdf421"
   },
   "source": [
    "Ativando uma conexão de banco de dados em memória usando o SGBD H2:"
   ]
  },
  {
   "cell_type": "code",
   "execution_count": 1,
   "id": "2b0705d1",
   "metadata": {
    "id": "2b0705d1",
    "vscode": {
     "languageId": "sql"
    }
   },
   "outputs": [],
   "source": [
    "%defaultDatasource jdbc:h2:mem:db"
   ]
  },
  {
   "cell_type": "markdown",
   "id": "527dae2c",
   "metadata": {
    "id": "527dae2c"
   },
   "source": [
    "Criação de Tabela"
   ]
  },
  {
   "cell_type": "code",
   "execution_count": 2,
   "id": "97c6f626",
   "metadata": {
    "id": "97c6f626",
    "vscode": {
     "languageId": "sql"
    }
   },
   "outputs": [],
   "source": [
    "DROP TABLE IF EXISTS Receitas;\n",
    "\n",
    "CREATE TABLE Receitas (\n",
    "  id INTEGER NOT NULL,\n",
    "  titulo VARCHAR(200),\n",
    "  regiao VARCHAR(100),\n",
    "  PRIMARY KEY(id)\n",
    ") AS SELECT\n",
    "  id, titulo, regiao\n",
    "FROM CSVREAD('../data/processed/receitas.csv');\n"
   ]
  },
  {
   "cell_type": "code",
   "execution_count": 3,
   "id": "a23268b6",
   "metadata": {
    "id": "a23268b6",
    "vscode": {
     "languageId": "sql"
    }
   },
   "outputs": [],
   "source": [
    "DROP TABLE IF EXISTS Nutrientes;\n",
    "\n",
    "CREATE TABLE Nutrientes (\n",
    "    id INTEGER NOT NULL,\n",
    "    nome VARCHAR(50),\n",
    "    PRIMARY KEY(id)\n",
    ") AS SELECT\n",
    "    id, nome\n",
    "FROM CSVREAD('../data/processed/nutrientes.csv');"
   ]
  },
  {
   "cell_type": "code",
   "execution_count": 4,
   "id": "22e0ad1f",
   "metadata": {
    "id": "22e0ad1f",
    "vscode": {
     "languageId": "sql"
    }
   },
   "outputs": [],
   "source": [
    "DROP TABLE IF EXISTS Compostos;\n",
    "\n",
    "CREATE TABLE Compostos (\n",
    "    id INTEGER NOT NULL,\n",
    "    nome VARCHAR(300),\n",
    "    PRIMARY KEY(id)\n",
    ") AS SELECT\n",
    "    id, nome\n",
    "FROM CSVREAD('../data/processed/compostos.csv');"
   ]
  },
  {
   "cell_type": "code",
   "execution_count": 5,
   "id": "a3a8016a",
   "metadata": {
    "id": "a3a8016a",
    "vscode": {
     "languageId": "sql"
    }
   },
   "outputs": [],
   "source": [
    "DROP TABLE IF EXISTS Ingredientes;\n",
    "\n",
    "CREATE TABLE Ingredientes (\n",
    "    id INTEGER NOT NULL,\n",
    "    nome VARCHAR(300),\n",
    "    grupo VARCHAR(300),\n",
    "    subgrupo VARCHAR(300),\n",
    "    densidade FLOAT,\n",
    "    peso_medio FLOAT,\n",
    "    composto BIT,\n",
    "    PRIMARY KEY(id)\n",
    ") AS SELECT\n",
    "    id, nome, grupo, subgrupo, densidade, peso_medio,composto\n",
    "FROM CSVREAD('../data/processed/ingredientes.csv');"
   ]
  },
  {
   "cell_type": "code",
   "execution_count": 6,
   "id": "50110a72",
   "metadata": {
    "id": "50110a72",
    "vscode": {
     "languageId": "sql"
    }
   },
   "outputs": [],
   "source": [
    "DROP TABLE IF EXISTS ingredientes_receitas;\n",
    "\n",
    "CREATE TABLE Ingredientes_receitas (\n",
    "    id_ingrediente INTEGER NOT NULL,\n",
    "    id_receita INTEGER NOT NULL,\n",
    "    volume FLOAT NOT NULL,\n",
    "    massa FLOAT NOT NULL,\n",
    "    unidade INTEGER NOT NULL,\n",
    "    PRIMARY KEY (id_ingrediente, id_receita)\n",
    ") AS SELECT\n",
    "    id_ingrediente, id_receita, volume, massa, unidade\n",
    "FROM CSVREAD('../data/processed/ingredientes_receitas.csv');"
   ]
  },
  {
   "cell_type": "code",
   "execution_count": 7,
   "id": "c036ea68",
   "metadata": {},
   "outputs": [
    {
     "ename": "org.h2.jdbc.JdbcSQLException",
     "evalue": " Unique index or primary key violation",
     "output_type": "error",
     "traceback": [
      "\u001b[1;31morg.h2.jdbc.JdbcSQLException: Unique index or primary key violation: \"PRIMARY_KEY_8 ON PUBLIC.COMPOSICAO_INGREDIENTE(ID_COMPOSTO, ID_BASE) VALUES (2007, 118, 26)\"; SQL statement:\u001b[0;0m",
      "\u001b[1;31mCREATE TABLE Composicao_ingrediente (\u001b[0;0m",
      "\u001b[1;31mid_composto INTEGER NOT NULL,\u001b[0;0m",
      "\u001b[1;31mid_base INTEGER NOT NULL,\u001b[0;0m",
      "\u001b[1;31mPRIMARY KEY (id_composto, id_base)\u001b[0;0m",
      "\u001b[1;31m) AS SELECT\u001b[0;0m",
      "\u001b[1;31mid_composto, id_base\u001b[0;0m",
      "\u001b[1;31mFROM CSVREAD('../data/processed/composicao.csv') [23505-197]\u001b[0;0m"
     ]
    }
   ],
   "source": [
    "DROP TABLE IF EXISTS Composicao_ingrediente;\n",
    "\n",
    "CREATE TABLE Composicao_ingrediente (\n",
    "  id_composto INTEGER NOT NULL,\n",
    "  id_base INTEGER NOT NULL,\n",
    "  PRIMARY KEY (id_composto, id_base)\n",
    ") AS SELECT\n",
    "    id_composto, id_base\n",
    "FROM CSVREAD('../data/processed/composicao.csv')"
   ]
  },
  {
   "cell_type": "code",
   "execution_count": 8,
   "id": "aoxJgc6mf97z",
   "metadata": {
    "id": "aoxJgc6mf97z"
   },
   "outputs": [],
   "source": [
    "DROP TABLE IF EXISTS Compostos_content;\n",
    "\n",
    "CREATE TABLE Compostos_content (\n",
    "  id_ingrediente INTEGER NOT NULL,\n",
    "  id_composto INTEGER NOT NULL,\n",
    "  quantidade FLOAT NOT NULL,\n",
    "  PRIMARY KEY (id_ingrediente, id_composto)\n",
    ") AS SELECT\n",
    "    id_ingrediente, id_composto, quantidade\n",
    "FROM CSVREAD('../data/processed/content_compostos.csv')"
   ]
  },
  {
   "cell_type": "code",
   "execution_count": 9,
   "id": "fT2tg0SnjPKW",
   "metadata": {
    "id": "fT2tg0SnjPKW"
   },
   "outputs": [],
   "source": [
    "DROP TABLE IF EXISTS Nutrientes_content;\n",
    "\n",
    "CREATE TABLE Nutrientes_content (\n",
    "  id_ingrediente INTEGER NOT NULL,\n",
    "  id_nutriente INTEGER NOT NULL,\n",
    "  quantidade FLOAT NOT NULL,\n",
    "  PRIMARY KEY (id_ingrediente, id_nutriente)\n",
    ") AS SELECT\n",
    "    id_ingrediente, id_nutriente, quantidade\n",
    "FROM CSVREAD('../data/processed/content_nutrientes.csv')"
   ]
  },
  {
   "cell_type": "markdown",
   "id": "6ebae1de",
   "metadata": {
    "id": "6ebae1de",
    "vscode": {
     "languageId": "sql"
    }
   },
   "source": [
    "1)Quais as estruturas bioquímicas mais frequentes em cada região?"
   ]
  },
  {
   "cell_type": "code",
   "execution_count": 10,
   "id": "c9de062d",
   "metadata": {
    "id": "c9de062d",
    "vscode": {
     "languageId": "sql"
    }
   },
   "outputs": [
    {
     "ename": "org.h2.jdbc.JdbcSQLException",
     "evalue": " Column \"I1.ID_CDB\" not found; SQL statement",
     "output_type": "error",
     "traceback": [
      "\u001b[1;31morg.h2.jdbc.JdbcSQLException: Column \"I1.ID_CDB\" not found; SQL statement:\u001b[0;0m",
      "\u001b[1;31mCREATE FORCE VIEW PUBLIC._0 AS\u001b[0;0m",
      "\u001b[1;31mSELECT\u001b[0;0m",
      "\u001b[1;31m    R1.REGIAO AS REGIAO_SUBQ,\u001b[0;0m",
      "\u001b[1;31m    R1.TITULO AS TITULO_SUBQ,\u001b[0;0m",
      "\u001b[1;31m    C1.NOME AS COMPOSTO_SUBQ,\u001b[0;0m",
      "\u001b[1;31m    COUNT(*) AS QUANTIDADE\u001b[0;0m",
      "\u001b[1;31mFROM PUBLIC.RECEITAS R1\u001b[0;0m",
      "\u001b[1;31mINNER JOIN PUBLIC.INGREDIENTES_RECEITAS IR1\u001b[0;0m",
      "\u001b[1;31m    ON 1=1\u001b[0;0m",
      "\u001b[1;31mINNER JOIN PUBLIC.INGREDIENTES I1\u001b[0;0m",
      "\u001b[1;31m    ON 1=1\u001b[0;0m",
      "\u001b[1;31mINNER JOIN PUBLIC.COMPOSTOS_CONTENT CC1\u001b[0;0m",
      "\u001b[1;31m    ON 1=1\u001b[0;0m",
      "\u001b[1;31mINNER JOIN PUBLIC.COMPOSTOS C1\u001b[0;0m",
      "\u001b[1;31m    ON 1=1\u001b[0;0m",
      "\u001b[1;31mWHERE (CC1.ID_COMPOSTO = C1.ID)\u001b[0;0m",
      "\u001b[1;31m    AND ((I1.ID_CDB = CC1.ID_INGREDIENTE)\u001b[0;0m",
      "\u001b[1;31m    AND ((IR1.ID_INGREDIENTE = I1.ID_CDB)\u001b[0;0m",
      "\u001b[1;31m    AND (R1.ID = IR1.ID_RECEITA)))\u001b[0;0m",
      "\u001b[1;31mGROUP BY R1.REGIAO, R1.TITULO, C1.NOME [42122-197]\u001b[0;0m"
     ]
    }
   ],
   "source": [
    "DROP VIEW IF EXISTS MostCommonCompoundByRegion;\n",
    "CREATE VIEW MostCommonCompoundByRegion AS\n",
    "SELECT\n",
    "    r.regiao AS nome_regiao,\n",
    "    c.nome AS nome_composto,\n",
    "    subq.quantidade\n",
    "FROM\n",
    "    Receitas r\n",
    "JOIN\n",
    "    (\n",
    "        SELECT\n",
    "            r1.regiao AS regiao_subq,\n",
    "            r1.titulo AS titulo_subq,\n",
    "            c1.nome AS composto_subq,\n",
    "            COUNT(*) AS quantidade\n",
    "        FROM\n",
    "            Receitas r1\n",
    "        JOIN\n",
    "            Ingredientes_receitas ir1 ON r1.id = ir1.id_receita\n",
    "        JOIN\n",
    "            Ingredientes i1 ON ir1.id_ingrediente = i1.id_cdb\n",
    "        JOIN\n",
    "            Compostos_content cc1 ON i1.id_cdb = cc1.id_ingrediente\n",
    "        JOIN\n",
    "            Compostos c1 ON cc1.id_composto = c1.id\n",
    "        GROUP BY\n",
    "            r1.regiao, r1.titulo, c1.nome\n",
    "    ) subq\n",
    "ON\n",
    "    r.regiao = subq.regiao_subq AND r.titulo = subq.titulo_subq\n",
    "JOIN\n",
    "    Compostos c ON subq.composto_subq = c.nome;\n",
    "SELECT * FROM MostCommonCompoundByRegion LIMIT 20;"
   ]
  },
  {
   "cell_type": "markdown",
   "id": "100248d8",
   "metadata": {
    "id": "100248d8",
    "vscode": {
     "languageId": "sql"
    }
   },
   "source": [
    "2)Quais regiões possuem receitas com ingredientes majoritariamente vegetais?"
   ]
  },
  {
   "cell_type": "code",
   "execution_count": 11,
   "id": "4a7aa9c7",
   "metadata": {
    "id": "4a7aa9c7",
    "vscode": {
     "languageId": "sql"
    }
   },
   "outputs": [
    {
     "ename": "org.h2.jdbc.JdbcSQLException",
     "evalue": " Column \"I.ID_CDB\" not found; SQL statement",
     "output_type": "error",
     "traceback": [
      "\u001b[1;31morg.h2.jdbc.JdbcSQLException: Column \"I.ID_CDB\" not found; SQL statement:\u001b[0;0m",
      "\u001b[1;31mCREATE VIEW RegionVegetablePercentageRanking AS\u001b[0;0m",
      "\u001b[1;31mSELECT\u001b[0;0m",
      "\u001b[1;31mr.regiao AS nome_regiao,\u001b[0;0m",
      "\u001b[1;31mCOUNT(DISTINCT CASE WHEN i.grupo NOT IN ('Milk and milk products', 'Snack foods', 'Aquatic foods', 'Animal foods') THEN ir.id_ingrediente END) AS total_vegetais,\u001b[0;0m",
      "\u001b[1;31mCOUNT(DISTINCT ir.id_ingrediente) AS total_ingredientes,\u001b[0;0m",
      "\u001b[1;31mCOUNT(DISTINCT ir.id_receita) AS total_receitas,\u001b[0;0m",
      "\u001b[1;31m(COUNT(DISTINCT CASE WHEN i.grupo NOT IN ('Milk and milk products', 'Snack foods', 'Aquatic foods', 'Animal foods') THEN ir.id_ingrediente END) * 100.0) / COUNT(DISTINCT ir.id_ingrediente) AS porcentagem_vegetais\u001b[0;0m",
      "\u001b[1;31mFROM\u001b[0;0m",
      "\u001b[1;31mReceitas r\u001b[0;0m",
      "\u001b[1;31mJOIN\u001b[0;0m",
      "\u001b[1;31mIngredientes_receitas ir ON r.id = ir.id_receita\u001b[0;0m",
      "\u001b[1;31mJOIN\u001b[0;0m",
      "\u001b[1;31mIngredientes i ON ir.id_ingrediente = i.id_cdb\u001b[0;0m",
      "\u001b[1;31mGROUP BY\u001b[0;0m",
      "\u001b[1;31mr.regiao\u001b[0;0m",
      "\u001b[1;31mORDER BY\u001b[0;0m",
      "\u001b[1;31mporcentagem_vegetais DESC [42122-197]\u001b[0;0m"
     ]
    }
   ],
   "source": [
    "DROP VIEW IF EXISTS RegionVegetablePercentageRanking;\n",
    "CREATE VIEW RegionVegetablePercentageRanking AS\n",
    "SELECT\n",
    "    r.regiao AS nome_regiao,\n",
    "    COUNT(DISTINCT CASE WHEN i.grupo NOT IN ('Milk and milk products', 'Snack foods', 'Aquatic foods', 'Animal foods') THEN ir.id_ingrediente END) AS total_vegetais,\n",
    "    COUNT(DISTINCT ir.id_ingrediente) AS total_ingredientes,\n",
    "    COUNT(DISTINCT ir.id_receita) AS total_receitas,\n",
    "    (COUNT(DISTINCT CASE WHEN i.grupo NOT IN ('Milk and milk products', 'Snack foods', 'Aquatic foods', 'Animal foods') THEN ir.id_ingrediente END) * 100.0) / COUNT(DISTINCT ir.id_ingrediente) AS porcentagem_vegetais\n",
    "FROM\n",
    "    Receitas r\n",
    "JOIN\n",
    "    Ingredientes_receitas ir ON r.id = ir.id_receita\n",
    "JOIN\n",
    "    Ingredientes i ON ir.id_ingrediente = i.id_cdb\n",
    "GROUP BY\n",
    "    r.regiao\n",
    "ORDER BY\n",
    "    porcentagem_vegetais DESC;\n",
    "SELECT * FROM RegionVegetablePercentageRanking LIMIT 20;\n"
   ]
  },
  {
   "cell_type": "markdown",
   "id": "9ab7fbd3",
   "metadata": {
    "id": "9ab7fbd3",
    "vscode": {
     "languageId": "sql"
    }
   },
   "source": [
    "3)Quais regiões possuem a maior média de gorduras por receita?"
   ]
  },
  {
   "cell_type": "code",
   "execution_count": 12,
   "id": "2a41cd59",
   "metadata": {
    "id": "2a41cd59",
    "vscode": {
     "languageId": "sql"
    }
   },
   "outputs": [
    {
     "data": {
      "application/vnd.jupyter.widget-view+json": {
       "model_id": "26795cfe-0154-472b-b933-40d6f98a09e7",
       "version_major": 2,
       "version_minor": 0
      },
      "method": "display_data"
     },
     "metadata": {},
     "output_type": "display_data"
    }
   ],
   "source": [
    "DROP VIEW IF EXISTS RegionFatAverageRanking;\n",
    "CREATE VIEW RegionFatAverageRanking AS\n",
    "SELECT\n",
    "    r.regiao AS nome_regiao,\n",
    "    AVG(nc.quantidade) AS media_gordura\n",
    "FROM\n",
    "    Receitas r\n",
    "JOIN\n",
    "    Ingredientes_receitas ir ON r.id = ir.id_receita\n",
    "JOIN\n",
    "    Nutrientes_content nc ON ir.id_ingrediente = nc.id_ingrediente\n",
    "WHERE\n",
    "    nc.id_nutriente = 1\n",
    "GROUP BY\n",
    "    r.regiao\n",
    "ORDER BY media_gordura DESC;\n",
    "SELECT * FROM RegionFatAverageRanking LIMIT 20;"
   ]
  }
 ],
 "metadata": {
  "colab": {
   "provenance": []
  },
  "kernelspec": {
   "display_name": "SQL",
   "language": "SQL",
   "name": "sql"
  },
  "language_info": {
   "codemirror_mode": "sql",
   "file_extension": ".sql",
   "mimetype": "",
   "name": "SQL",
   "nbconverter_exporter": "",
   "version": ""
  },
  "toc": {
   "base_numbering": 1,
   "nav_menu": {},
   "number_sections": false,
   "sideBar": false,
   "skip_h1_title": false,
   "title_cell": "Table of Contents",
   "title_sidebar": "Contents",
   "toc_cell": false,
   "toc_position": {},
   "toc_section_display": false,
   "toc_window_display": false
  }
 },
 "nbformat": 4,
 "nbformat_minor": 5
}
