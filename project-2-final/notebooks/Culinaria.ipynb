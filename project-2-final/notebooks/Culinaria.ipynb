{
 "cells": [
  {
   "cell_type": "markdown",
   "id": "0e6aaeb3",
   "metadata": {},
   "source": [
    "# Culinária ao Redor do Mundo: Análise de Receitas"
   ]
  },
  {
   "cell_type": "markdown",
   "id": "36cdf421",
   "metadata": {},
   "source": [
    "Ativando uma conexão de banco de dados em memória usando o SGBD H2:"
   ]
  },
  {
   "cell_type": "code",
   "execution_count": 1,
   "id": "2b0705d1",
   "metadata": {},
   "outputs": [],
   "source": [
    "%defaultDatasource jdbc:h2:mem:db"
   ]
  },
  {
   "cell_type": "markdown",
   "id": "527dae2c",
   "metadata": {},
   "source": [
    "Criação de Tabela"
   ]
  },
  {
   "cell_type": "code",
   "execution_count": 2,
   "id": "97c6f626",
   "metadata": {},
   "outputs": [],
   "source": [
    "DROP TABLE IF EXISTS Receitas;\n",
    "\n",
    "CREATE TABLE Receitas (\n",
    "  id INTEGER NOT NULL,\n",
    "  titulo VARCHAR(200),\n",
    "  regiao VARCHAR(100),\n",
    "  PRIMARY KEY(id)\n",
    ") AS SELECT\n",
    "  id, titulo, regiao\n",
    "FROM CSVREAD('../data/processed/receitas.csv');\n"
   ]
  },
  {
   "cell_type": "code",
   "execution_count": 3,
   "id": "a23268b6",
   "metadata": {},
   "outputs": [],
   "source": [
    "DROP TABLE IF EXISTS Nutrientes;\n",
    "\n",
    "CREATE TABLE Nutrientes (\n",
    "    id INTEGER NOT NULL,\n",
    "    nome VARCHAR(50),\n",
    "    PRIMARY KEY(id)\n",
    ") AS SELECT\n",
    "    id, nome\n",
    "FROM CSVREAD('../data/processed/nutrientes.csv');"
   ]
  },
  {
   "cell_type": "code",
   "execution_count": 4,
   "id": "22e0ad1f",
   "metadata": {},
   "outputs": [],
   "source": [
    "DROP TABLE IF EXISTS Compostos;\n",
    "\n",
    "CREATE TABLE Compostos (\n",
    "    id INTEGER NOT NULL,\n",
    "    nome VARCHAR(300),\n",
    "    PRIMARY KEY(id)\n",
    ") AS SELECT\n",
    "    id, nome\n",
    "FROM CSVREAD('../data/processed/compostos.csv');"
   ]
  },
  {
   "cell_type": "code",
   "execution_count": 5,
   "id": "a3a8016a",
   "metadata": {},
   "outputs": [],
   "source": [
    "DROP TABLE IF EXISTS Ingredientes;\n",
    "\n",
    "CREATE TABLE Ingredientes (\n",
    "    id_cdb INTEGER NOT NULL,\n",
    "    nome_cdb VARCHAR(300),\n",
    "    id_fdb INTEGER NOT NULL,\n",
    "    nome_fdb VARCHAR(300),\n",
    "    grupo VARCHAR(300),\n",
    "    subgrupo VARCHAR(300),\n",
    "    aliases VARCHAR(300),\n",
    "    PRIMARY KEY(id_cdb, id_fdb)\n",
    ") AS SELECT\n",
    "    id_cdb, nome_cdb, id_fdb, nome_fdb, grupo, subgrupo, aliases\n",
    "FROM CSVREAD('../data/interim/ingredientes_final.csv');"
   ]
  },
  {
   "cell_type": "code",
   "execution_count": 6,
   "id": "07cb3072",
   "metadata": {},
   "outputs": [
    {
     "ename": "org.h2.jdbc.JdbcSQLException",
     "evalue": " Unique index or primary key violation",
     "output_type": "error",
     "traceback": [
      "\u001b[1;31morg.h2.jdbc.JdbcSQLException: Unique index or primary key violation: \"PRIMARY_KEY_E ON PUBLIC.INGREDIENTES_RECEITAS(ID_INGREDIENTE, ID_RECEITA) VALUES (223, 1, 1)\"; SQL statement:\u001b[0;0m",
      "\u001b[1;31mCREATE TABLE Ingredientes_receitas (\u001b[0;0m",
      "\u001b[1;31mid_ingrediente INTEGER NOT NULL,\u001b[0;0m",
      "\u001b[1;31mid_receita INTEGER NOT NULL,\u001b[0;0m",
      "\u001b[1;31mvolume INTEGER ,\u001b[0;0m",
      "\u001b[1;31mmassa INTEGER ,\u001b[0;0m",
      "\u001b[1;31munidade DECIMAL NOT NULL,\u001b[0;0m",
      "\u001b[1;31mcomposto INTEGER NOT NULL,\u001b[0;0m",
      "\u001b[1;31mPRIMARY KEY (id_ingrediente, id_receita)\u001b[0;0m",
      "\u001b[1;31m)AS SELECT\u001b[0;0m",
      "\u001b[1;31mid_ingrediente, id_receita, volume, massa, unidade, composto\u001b[0;0m",
      "\u001b[1;31mFROM CSVREAD('../data/processed/ingredientes_receitas.csv') [23505-197]\u001b[0;0m"
     ]
    }
   ],
   "source": [
    "DROP TABLE IF EXISTS ingredientes_receitas;\n",
    "\n",
    "CREATE TABLE Ingredientes_receitas (\n",
    "    id_ingrediente INTEGER NOT NULL,\n",
    "    id_receita INTEGER NOT NULL,\n",
    "    volume INTEGER ,\n",
    "    massa INTEGER ,\n",
    "    unidade DECIMAL NOT NULL,\n",
    "    composto INTEGER NOT NULL,\n",
    "    PRIMARY KEY (id_ingrediente, id_receita)\n",
    ")AS SELECT\n",
    "    id_ingrediente, id_receita, volume, massa, unidade, composto\n",
    "FROM CSVREAD('../data/processed/ingredientes_receitas.csv');"
   ]
  },
  {
   "cell_type": "code",
   "execution_count": 7,
   "id": "4680ca8b",
   "metadata": {},
   "outputs": [
    {
     "data": {
      "application/vnd.jupyter.widget-view+json": {
       "model_id": "9bbbc0b7-d894-48fc-b470-2f7b10031124",
       "version_major": 2,
       "version_minor": 0
      },
      "method": "display_data"
     },
     "metadata": {},
     "output_type": "display_data"
    }
   ],
   "source": [
    "SELECT * FROM Receitas LIMIT 50;"
   ]
  },
  {
   "cell_type": "code",
   "execution_count": 8,
   "id": "f45d2394",
   "metadata": {},
   "outputs": [
    {
     "data": {
      "application/vnd.jupyter.widget-view+json": {
       "model_id": "0ea9dc90-2247-4524-8fd2-3a7f80f88ad7",
       "version_major": 2,
       "version_minor": 0
      },
      "method": "display_data"
     },
     "metadata": {},
     "output_type": "display_data"
    }
   ],
   "source": [
    "SELECT * FROM Nutrientes LIMIT 50;"
   ]
  },
  {
   "cell_type": "code",
   "execution_count": 9,
   "id": "6d7bc68f",
   "metadata": {},
   "outputs": [
    {
     "data": {
      "application/vnd.jupyter.widget-view+json": {
       "model_id": "3e1a107e-7b61-4fbf-96e3-84fbc1c8e518",
       "version_major": 2,
       "version_minor": 0
      },
      "method": "display_data"
     },
     "metadata": {},
     "output_type": "display_data"
    }
   ],
   "source": [
    "SELECT * FROM Compostos LIMIT 50;"
   ]
  },
  {
   "cell_type": "code",
   "execution_count": 10,
   "id": "1ef61d0f",
   "metadata": {},
   "outputs": [
    {
     "data": {
      "application/vnd.jupyter.widget-view+json": {
       "model_id": "8329e0bd-6d4d-4135-8e8e-ac2d225e0897",
       "version_major": 2,
       "version_minor": 0
      },
      "method": "display_data"
     },
     "metadata": {},
     "output_type": "display_data"
    }
   ],
   "source": [
    "SELECT * FROM Ingredientes LIMIT 50;"
   ]
  },
  {
   "cell_type": "code",
   "execution_count": 11,
   "id": "64918af2",
   "metadata": {},
   "outputs": [
    {
     "ename": "org.h2.jdbc.JdbcSQLException",
     "evalue": " Table \"INGREDIENTES_RECEITAS\" not found; SQL statement",
     "output_type": "error",
     "traceback": [
      "\u001b[1;31morg.h2.jdbc.JdbcSQLException: Table \"INGREDIENTES_RECEITAS\" not found; SQL statement:\u001b[0;0m",
      "\u001b[1;31mSELECT * FROM Ingredientes_receitas LIMIT 50 [42102-197]\u001b[0;0m"
     ]
    }
   ],
   "source": [
    "SELECT * FROM Ingredientes_receitas LIMIT 50;"
   ]
  },
  {
   "cell_type": "code",
   "execution_count": 12,
   "id": "553b41d0",
   "metadata": {},
   "outputs": [
    {
     "data": {
      "application/vnd.jupyter.widget-view+json": {
       "model_id": "d7fea2c2-afca-4092-916f-8cb631327702",
       "version_major": 2,
       "version_minor": 0
      },
      "method": "display_data"
     },
     "metadata": {},
     "output_type": "display_data"
    }
   ],
   "source": [
    "SELECT R.regiao, COUNT(*)\n",
    "    FROM Receitas R\n",
    "    GROUP BY R.regiao\n",
    "    ORDER BY COUNT(*) DESC"
   ]
  }
 ],
 "metadata": {
  "kernelspec": {
   "display_name": "SQL",
   "language": "SQL",
   "name": "sql"
  },
  "language_info": {
   "codemirror_mode": "sql",
   "file_extension": ".sql",
   "mimetype": "",
   "name": "SQL",
   "nbconverter_exporter": "",
   "version": ""
  },
  "toc": {
   "base_numbering": 1,
   "nav_menu": {},
   "number_sections": false,
   "sideBar": false,
   "skip_h1_title": false,
   "title_cell": "Table of Contents",
   "title_sidebar": "Contents",
   "toc_cell": false,
   "toc_position": {},
   "toc_section_display": false,
   "toc_window_display": false
  }
 },
 "nbformat": 4,
 "nbformat_minor": 5
}
