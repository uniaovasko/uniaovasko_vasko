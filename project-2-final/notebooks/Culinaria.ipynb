{
  "cells": [
    {
      "cell_type": "markdown",
      "id": "0e6aaeb3",
      "metadata": {
        "id": "0e6aaeb3"
      },
      "source": [
        "# Culinária ao Redor do Mundo: Análise de Receitas"
      ]
    },
    {
      "cell_type": "markdown",
      "id": "36cdf421",
      "metadata": {
        "id": "36cdf421"
      },
      "source": [
        "Ativando uma conexão de banco de dados em memória usando o SGBD H2:"
      ]
    },
    {
      "cell_type": "code",
      "execution_count": null,
      "id": "2b0705d1",
      "metadata": {
        "vscode": {
          "languageId": "sql"
        },
        "id": "2b0705d1"
      },
      "outputs": [],
      "source": [
        "%defaultDatasource jdbc:h2:mem:db"
      ]
    },
    {
      "cell_type": "markdown",
      "id": "527dae2c",
      "metadata": {
        "id": "527dae2c"
      },
      "source": [
        "Criação de Tabela"
      ]
    },
    {
      "cell_type": "code",
      "execution_count": null,
      "id": "97c6f626",
      "metadata": {
        "vscode": {
          "languageId": "sql"
        },
        "id": "97c6f626"
      },
      "outputs": [],
      "source": [
        "DROP TABLE IF EXISTS Receitas;\n",
        "\n",
        "CREATE TABLE Receitas (\n",
        "  id INTEGER NOT NULL,\n",
        "  titulo VARCHAR(200),\n",
        "  regiao VARCHAR(100),\n",
        "  PRIMARY KEY(id)\n",
        ") AS SELECT\n",
        "  id, titulo, regiao\n",
        "FROM CSVREAD('../data/processed/receitas.csv');\n"
      ]
    },
    {
      "cell_type": "code",
      "execution_count": null,
      "id": "a23268b6",
      "metadata": {
        "vscode": {
          "languageId": "sql"
        },
        "id": "a23268b6"
      },
      "outputs": [],
      "source": [
        "DROP TABLE IF EXISTS Nutrientes;\n",
        "\n",
        "CREATE TABLE Nutrientes (\n",
        "    id INTEGER NOT NULL,\n",
        "    nome VARCHAR(50),\n",
        "    PRIMARY KEY(id)\n",
        ") AS SELECT\n",
        "    id, nome\n",
        "FROM CSVREAD('../data/processed/nutrientes.csv');"
      ]
    },
    {
      "cell_type": "code",
      "execution_count": null,
      "id": "22e0ad1f",
      "metadata": {
        "vscode": {
          "languageId": "sql"
        },
        "id": "22e0ad1f"
      },
      "outputs": [],
      "source": [
        "DROP TABLE IF EXISTS Compostos;\n",
        "\n",
        "CREATE TABLE Compostos (\n",
        "    id INTEGER NOT NULL,\n",
        "    nome VARCHAR(300),\n",
        "    PRIMARY KEY(id)\n",
        ") AS SELECT\n",
        "    id, nome\n",
        "FROM CSVREAD('../data/processed/compostos.csv');"
      ]
    },
    {
      "cell_type": "code",
      "execution_count": null,
      "id": "a3a8016a",
      "metadata": {
        "vscode": {
          "languageId": "sql"
        },
        "id": "a3a8016a"
      },
      "outputs": [],
      "source": [
        "DROP TABLE IF EXISTS Ingredientes;\n",
        "\n",
        "CREATE TABLE Ingredientes (\n",
        "    id_cdb INTEGER NOT NULL,\n",
        "    nome_cdb VARCHAR(300),\n",
        "    id_fdb INTEGER NOT NULL,\n",
        "    nome_fdb VARCHAR(300),\n",
        "    grupo VARCHAR(300),\n",
        "    subgrupo VARCHAR(300),\n",
        "    aliases VARCHAR(300),\n",
        "    PRIMARY KEY(id_cdb, id_fdb)\n",
        ") AS SELECT\n",
        "    id_cdb, nome_cdb, id_fdb, nome_fdb, grupo, subgrupo, aliases\n",
        "FROM CSVREAD('../data/interim/ingredientes_final.csv');"
      ]
    },
    {
      "cell_type": "code",
      "execution_count": null,
      "id": "50110a72",
      "metadata": {
        "vscode": {
          "languageId": "sql"
        },
        "id": "50110a72"
      },
      "outputs": [],
      "source": [
        "DROP TABLE IF EXISTS ingredientes_receitas;\n",
        "\n",
        "CREATE TABLE Ingredientes_receitas (\n",
        "    id_ingrediente INTEGER NOT NULL,\n",
        "    id_receita INTEGER NOT NULL,\n",
        "    volume FLOAT NOT NULL,\n",
        "    massa FLOAT NOT NULL,\n",
        "    unidade INTEGER NOT NULL,\n",
        "    PRIMARY KEY (id_ingrediente, id_receita)\n",
        ") AS SELECT\n",
        "    id_ingrediente, id_receita, volume, massa, unidade\n",
        "FROM CSVREAD('../data/processed/ingredientes_receitas.csv');"
      ]
    },
    {
      "cell_type": "code",
      "source": [
        "DROP TABLE IF EXISTS Compostos_content;\n",
        "\n",
        "CREATE TABLE Compostos_content (\n",
        "  id_ingrediente INTEGER NOT NULL,\n",
        "  id_composto INTEGER NOT NULL,\n",
        "  quantidade FLOAT NOT NULL,\n",
        "  PRIMARY KEY (id_ingrediente, id_composto)\n",
        ") AS SELECT\n",
        "    id_ingrediente, id_composto, quantidade\n",
        "FROM CSVREAD('../data/processed/content_compostos.csv')"
      ],
      "metadata": {
        "id": "aoxJgc6mf97z"
      },
      "id": "aoxJgc6mf97z",
      "execution_count": null,
      "outputs": []
    },
    {
      "cell_type": "code",
      "source": [
        "DROP TABLE IF EXISTS Nutrientes_content;\n",
        "\n",
        "CREATE TABLE Nutrientes_content (\n",
        "  id_ingrediente INTEGER NOT NULL,\n",
        "  id_nutriente INTEGER NOT NULL,\n",
        "  quantidade FLOAT NOT NULL,\n",
        "  PRIMARY KEY (id_ingrediente, id_nutriente)\n",
        ") AS SELECT\n",
        "    id_ingrediente, id_nutriente, quantidade\n",
        "FROM CSVREAD('../data/processed/content_nutrientes.csv')"
      ],
      "metadata": {
        "id": "fT2tg0SnjPKW"
      },
      "id": "fT2tg0SnjPKW",
      "execution_count": null,
      "outputs": []
    },
    {
      "cell_type": "markdown",
      "id": "6ebae1de",
      "metadata": {
        "vscode": {
          "languageId": "sql"
        },
        "id": "6ebae1de"
      },
      "source": [
        "1)Quais as estruturas bioquímicas mais frequentes em cada região?"
      ]
    },
    {
      "cell_type": "code",
      "execution_count": null,
      "id": "c9de062d",
      "metadata": {
        "vscode": {
          "languageId": "sql"
        },
        "id": "c9de062d"
      },
      "outputs": [],
      "source": [
        "DROP VIEW IF EXISTS MostCommonCompoundByRegion;\n",
        "CREATE VIEW MostCommonCompoundByRegion AS\n",
        "SELECT\n",
        "    r.regiao AS nome_regiao,\n",
        "    c.nome AS nome_composto,\n",
        "    COUNT(*) AS quantidade\n",
        "FROM\n",
        "    Receitas r\n",
        "JOIN\n",
        "    Ingredientes_receitas ir ON r.id = ir.id_receita\n",
        "JOIN\n",
        "    Ingredientes i ON ir.id_ingrediente = i.id_cdb\n",
        "JOIN\n",
        "    Compostos_content cc ON i.id_cdb = cc.id_ingrediente\n",
        "JOIN\n",
        "    Compostos c ON cc.id_composto = c.id\n",
        "JOIN\n",
        "    (\n",
        "        SELECT\n",
        "            r.id AS receita_id,\n",
        "            c.id AS composto_id,\n",
        "            ROW_NUMBER() OVER (PARTITION BY r.regiao ORDER BY COUNT(*) DESC) AS rn\n",
        "        FROM\n",
        "            Receitas r\n",
        "        JOIN\n",
        "            Ingredientes_receitas ir ON r.id = ir.id_receita\n",
        "        JOIN\n",
        "            Ingredientes i ON ir.id_ingrediente = i.id_cdb\n",
        "        JOIN\n",
        "            Compostos_content cc ON i.id_cdb = cc.id_ingrediente\n",
        "        JOIN\n",
        "            Compostos c ON cc.id_composto = c.id\n",
        "        GROUP BY\n",
        "            r.id, c.id, r.regiao\n",
        "    ) ranked_compostos ON r.id = ranked_compostos.receita_id AND c.id = ranked_compostos.composto_id AND ranked_compostos.rn = 1\n",
        "GROUP BY\n",
        "    r.regiao, c.nome\n",
        "ORDER BY\n",
        "    quantidade DESC;\n",
        "SELECT * FROM MostCommonCompoundByRegion LIMIT 20;"
      ]
    },
    {
      "cell_type": "markdown",
      "id": "100248d8",
      "metadata": {
        "vscode": {
          "languageId": "sql"
        },
        "id": "100248d8"
      },
      "source": [
        "2)Quais regiões possuem receitas com ingredientes majoritariamente vegetais?"
      ]
    },
    {
      "cell_type": "code",
      "execution_count": null,
      "id": "4a7aa9c7",
      "metadata": {
        "vscode": {
          "languageId": "sql"
        },
        "id": "4a7aa9c7"
      },
      "outputs": [],
      "source": [
        "DROP VIEW IF EXISTS RegionVegetablePercentageRanking;\n",
        "CREATE VIEW RegionVegetablePercentageRanking AS\n",
        "SELECT\n",
        "    r.regiao AS nome_regiao,\n",
        "    COUNT(DISTINCT CASE WHEN i.grupo NOT IN ('Milk and milk products', 'Snack foods', 'Aquatic foods', 'Animal foods') THEN ir.id_ingrediente END) AS total_vegetais,\n",
        "    COUNT(DISTINCT ir.id_ingrediente) AS total_ingredientes,\n",
        "    COUNT(DISTINCT ir.id_receita) AS total_receitas,\n",
        "    (COUNT(DISTINCT CASE WHEN i.grupo NOT IN ('Milk and milk products', 'Snack foods', 'Aquatic foods', 'Animal foods') THEN ir.id_ingrediente END) * 100.0) / COUNT(DISTINCT ir.id_ingrediente) AS porcentagem_vegetais\n",
        "FROM\n",
        "    Receitas r\n",
        "JOIN\n",
        "    Ingredientes_receitas ir ON r.id = ir.id_receita\n",
        "JOIN\n",
        "    Ingredientes i ON ir.id_ingrediente = i.id_cdb\n",
        "GROUP BY\n",
        "    r.regiao\n",
        "ORDER BY\n",
        "    porcentagem_vegetais DESC;\n",
        "SELECT * FROM RegionVegetablePercentageRanking LIMIT 20;\n"
      ]
    },
    {
      "cell_type": "markdown",
      "id": "9ab7fbd3",
      "metadata": {
        "vscode": {
          "languageId": "sql"
        },
        "id": "9ab7fbd3"
      },
      "source": [
        "3)Quais regiões possuem a maior média de gorduras por receita?"
      ]
    },
    {
      "cell_type": "code",
      "execution_count": null,
      "id": "2a41cd59",
      "metadata": {
        "vscode": {
          "languageId": "sql"
        },
        "id": "2a41cd59"
      },
      "outputs": [],
      "source": [
        "DROP VIEW IF EXISTS RegionFatAverageRanking;\n",
        "CREATE VIEW RegionFatAverageRanking AS\n",
        "SELECT\n",
        "    r.regiao AS nome_regiao,\n",
        "    AVG(nc.quantidade) AS media_gordura\n",
        "FROM\n",
        "    Receitas r\n",
        "JOIN\n",
        "    Ingredientes_receitas ir ON r.id = ir.id_receita\n",
        "JOIN\n",
        "    Nutrientes_content nc ON ir.id_ingrediente = nc.id_ingrediente\n",
        "WHERE\n",
        "    nc.id_nutriente = 1\n",
        "GROUP BY\n",
        "    r.regiao\n",
        "ORDER BY media_gordura DESC;\n",
        "SELECT * FROM RegionFatAverageRanking LIMIT 20;"
      ]
    }
  ],
  "metadata": {
    "kernelspec": {
      "display_name": "SQL",
      "language": "SQL",
      "name": "sql"
    },
    "language_info": {
      "codemirror_mode": "sql",
      "file_extension": ".sql",
      "mimetype": "",
      "name": "SQL",
      "nbconverter_exporter": "",
      "version": ""
    },
    "toc": {
      "base_numbering": 1,
      "nav_menu": {},
      "number_sections": false,
      "sideBar": false,
      "skip_h1_title": false,
      "title_cell": "Table of Contents",
      "title_sidebar": "Contents",
      "toc_cell": false,
      "toc_position": {},
      "toc_section_display": false,
      "toc_window_display": false
    },
    "colab": {
      "provenance": []
    }
  },
  "nbformat": 4,
  "nbformat_minor": 5
}