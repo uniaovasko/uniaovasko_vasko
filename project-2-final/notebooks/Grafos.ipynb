{
 "cells": [
  {
   "cell_type": "raw",
   "metadata": {},
   "source": [
    "LOAD CSV WITH HEADERS FROM ('https://raw.githubusercontent.com/uniaovasko/uniaovasko_vasko/main/project-2-final/data/processed/receitas.csv') AS line\n",
    "CREATE (:Receita {id: line.id, titulo: line.titulo, regiao: line.regiao})"
   ]
  },
  {
   "cell_type": "raw",
   "metadata": {},
   "source": [
    "CREATE INDEX FOR (r:Receita) ON (r.id)"
   ]
  },
  {
   "cell_type": "markdown",
   "metadata": {},
   "source": [
    "Para que pudessemos executar nossas querries em um ambiente neo4j online, decidimos filtrar apenas as receitas da região \"USA\", mas idealmente, usaríamos todas as 45k receitas em nossos dados"
   ]
  },
  {
   "cell_type": "raw",
   "metadata": {},
   "source": [
    "LOAD CSV WITH HEADERS FROM ('https://raw.githubusercontent.com/uniaovasko/uniaovasko_vasko/main/project-2-final/data/processed/ingredientes.csv') AS line\n",
    "CREATE (:Ingrediente {id: line.id, nome:line.nome, grupo:line.grupo})"
   ]
  },
  {
   "cell_type": "raw",
   "metadata": {},
   "source": [
    "CREATE INDEX FOR (i:Ingrediente) ON (i.id)"
   ]
  },
  {
   "cell_type": "raw",
   "metadata": {},
   "source": [
    "LOAD CSV WITH HEADERS FROM ('https://raw.githubusercontent.com/uniaovasko/uniaovasko_vasko/main/project-2-final/data/processed/ingredientes_receitas.csv') AS line\n",
    "MATCH (r:Receita {id: line.id_receita})\n",
    "MATCH (i:Ingrediente {id: line.id_ingrediente})\n",
    "CREATE (r)-[e:Emprega]->(i)"
   ]
  },
  {
   "cell_type": "raw",
   "metadata": {},
   "source": [
    "MATCH (i1:Ingrediente)<-[:Emprega]-(r:Receita)-[:Emprega]->(i2:Ingrediente)\n",
    "MERGE (i1)<-[re:Relaciona]->(i2)\n",
    "ON CREATE SET re.weight = 1\n",
    "ON MATCH SET re.weight = re.weight + 1"
   ]
  },
  {
   "cell_type": "markdown",
   "metadata": {},
   "source": [
    "Aqui termina nossa projeção. Podemos inclusive apagar as arestas :Emprega e os nós :Receita se quisermos economizar espaço"
   ]
  },
  {
   "cell_type": "markdown",
   "metadata": {},
   "source": [
    "Querry para encontrarmos os ingredientes considerados hubs"
   ]
  },
  {
   "cell_type": "raw",
   "metadata": {},
   "source": [
    "MATCH (i:Ingrediente)\n",
    "WHERE i.grupo <> 'Baking goods'\n",
    "WITH i, [(i)-[:Relaciona]-() | 1] AS relationships\n",
    "WITH i, REDUCE(s = 0, rel IN relationships | s + rel) AS degree\n",
    "ORDER BY degree DESC\n",
    "LIMIT 20\n",
    "RETURN i, degree;"
   ]
  },
  {
   "cell_type": "markdown",
   "metadata": {},
   "source": [
    "Querry para analisar as maiores distancias entre dois ingredientes\n",
    "Infelizmente, o processamento durou mais de 10 minutos e falhou por tempo limite"
   ]
  },
  {
   "cell_type": "raw",
   "metadata": {},
   "source": [
    "MATCH (i1:Ingrediente), (i2:Ingrediente)\n",
    "WHERE id(i1) < id(i2)\n",
    "WITH i1, i2\n",
    "CALL apoc.algo.dijkstra(i1, i2, 'Relaciona', 'distance') YIELD path, weight\n",
    "RETURN i1, i2, weight\n",
    "ORDER BY weight DESC\n",
    "LIMIT 1;"
   ]
  }
 ],
 "metadata": {
  "language_info": {
   "name": "python"
  }
 },
 "nbformat": 4,
 "nbformat_minor": 5
}
